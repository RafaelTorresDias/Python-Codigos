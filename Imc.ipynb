{
  "nbformat": 4,
  "nbformat_minor": 0,
  "metadata": {
    "colab": {
      "name": "Imc.ipynb",
      "version": "0.3.2",
      "provenance": [],
      "collapsed_sections": [],
      "include_colab_link": true
    },
    "kernelspec": {
      "name": "python3",
      "display_name": "Python 3"
    }
  },
  "cells": [
    {
      "cell_type": "markdown",
      "metadata": {
        "id": "view-in-github",
        "colab_type": "text"
      },
      "source": [
        "<a href=\"https://colab.research.google.com/github/RafaelTorresDias/Python-Codigos/blob/master/Imc.ipynb\" target=\"_parent\"><img src=\"https://colab.research.google.com/assets/colab-badge.svg\" alt=\"Open In Colab\"/></a>"
      ]
    },
    {
      "metadata": {
        "id": "UUeBfeE1KuIS",
        "colab_type": "code",
        "colab": {}
      },
      "cell_type": "code",
      "source": [
        "peso = 0\n",
        "altura = 0\n",
        "imc = 0\n",
        "\n",
        "def calculo_imc():\n",
        "  global peso, altura, imc\n",
        "  print(\"Digite o seu peso\")\n",
        "  entrada = input()\n",
        "  peso = float(entrada)\n",
        "  print(\"Digite a sua altura\")\n",
        "  entrada = input()\n",
        "  altura = float(entrada)\n",
        "  imc = peso / (altura*2)\n",
        "  return imc"
      ],
      "execution_count": 0,
      "outputs": []
    },
    {
      "metadata": {
        "id": "lXh1Il5aLya5",
        "colab_type": "code",
        "colab": {}
      },
      "cell_type": "code",
      "source": [
        "calculo_imc()"
      ],
      "execution_count": 0,
      "outputs": []
    },
    {
      "metadata": {
        "id": "TLjU3jjstUpH",
        "colab_type": "text"
      },
      "cell_type": "markdown",
      "source": [
        "Rafael Torres"
      ]
    }
  ]
}